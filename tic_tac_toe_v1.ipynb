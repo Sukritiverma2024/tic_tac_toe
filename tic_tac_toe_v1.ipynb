{
 "cells": [
  {
   "cell_type": "code",
   "execution_count": 1,
   "id": "20c367a7",
   "metadata": {},
   "outputs": [],
   "source": [
    "import sys"
   ]
  },
  {
   "cell_type": "code",
   "execution_count": 2,
   "id": "b92f0f9e",
   "metadata": {},
   "outputs": [],
   "source": [
    "row1= [\"____|\",\"____\",\"|____\"]\n",
    "row2= [\"____|\",\"____\",\"|____\"]\n",
    "row3= [\"    |\",\"    \",\"|    \"]\n",
    "counter= 0"
   ]
  },
  {
   "cell_type": "code",
   "execution_count": 3,
   "id": "650dbbfa",
   "metadata": {},
   "outputs": [],
   "source": [
    "def print_board(row1,row2,row3):\n",
    "    print(row1)\n",
    "    print(row2)\n",
    "    print(row3)"
   ]
  },
  {
   "cell_type": "code",
   "execution_count": 4,
   "id": "b1ddccf6",
   "metadata": {},
   "outputs": [
    {
     "name": "stdout",
     "output_type": "stream",
     "text": [
      "['____|', '____', '|____']\n",
      "['____|', '____', '|____']\n",
      "['    |', '    ', '|    ']\n"
     ]
    }
   ],
   "source": [
    "print_board(row1,row2,row3)"
   ]
  },
  {
   "cell_type": "code",
   "execution_count": 5,
   "id": "10602c9d",
   "metadata": {},
   "outputs": [],
   "source": [
    "def isWon(row1,row2,row3):\n",
    "    if row1[0]==row1[1]==row1[2] or row2[0]==row2[1]==row2[2] or row3[0]==row3[1]==row3[2] or row1[0]==row2[0]==row3[0] or row1[1]==row2[1]==row3[1] or row1[2]==row2[2]==row3[2] or row1[0]==row2[1]==row3[2] or row1[2]==row2[1]==row3[0]:\n",
    "        print('won')\n",
    "        sys.exit()\n",
    "    else:\n",
    "        print(\"continue\")"
   ]
  },
  {
   "cell_type": "code",
   "execution_count": null,
   "id": "3d5af7ed",
   "metadata": {},
   "outputs": [
    {
     "name": "stdout",
     "output_type": "stream",
     "text": [
      "['____|', '____', '|____']\n",
      "['____|', '____', '|____']\n",
      "['    |', '    ', '|    ']\n"
     ]
    }
   ],
   "source": [
    "while 1:\n",
    "    print_board(row1,row2,row3)\n",
    "    index=int(input(\"Enter your index:\"))\n",
    "    if counter%2 ==0 :\n",
    "        marker= \"X\"\n",
    "    else:\n",
    "        marker= \"O\"\n",
    "    if index==7:\n",
    "        row1[0]=marker\n",
    "    elif index==8:\n",
    "        row1[1]=marker\n",
    "    elif index==9:\n",
    "        row1[2]=marker\n",
    "    elif index==4:\n",
    "        row2[0]=marker\n",
    "    elif index==5:\n",
    "        row2[1]=marker\n",
    "    elif index==6:\n",
    "        row2[2]=marker\n",
    "    elif index==1:\n",
    "        row3[0]=marker\n",
    "    elif index==2:\n",
    "        row3[1]=marker\n",
    "    elif index==3:\n",
    "        row3[2]=marker\n",
    "    else:\n",
    "        print(\"Wrong Input\")\n",
    "    isWon(row1,row2,row3)\n",
    "    counter+=1"
   ]
  },
  {
   "cell_type": "markdown",
   "id": "4ca5b5da",
   "metadata": {},
   "source": [
    "# "
   ]
  }
 ],
 "metadata": {
  "kernelspec": {
   "display_name": "Python 3 (ipykernel)",
   "language": "python",
   "name": "python3"
  },
  "language_info": {
   "codemirror_mode": {
    "name": "ipython",
    "version": 3
   },
   "file_extension": ".py",
   "mimetype": "text/x-python",
   "name": "python",
   "nbconvert_exporter": "python",
   "pygments_lexer": "ipython3",
   "version": "3.9.7"
  }
 },
 "nbformat": 4,
 "nbformat_minor": 5
}
